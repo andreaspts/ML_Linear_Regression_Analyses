{
 "cells": [
  {
   "cell_type": "markdown",
   "metadata": {},
   "source": [
    "# Building two simple linear regression models"
   ]
  },
  {
   "cell_type": "markdown",
   "metadata": {},
   "source": [
    "## Case 1: Prediction of flat prices\n",
    "\n",
    "In the following we want to define a data frame from a simple csv file and build a linear regression model. The data presented by the file relates the number of square meters of flats to their prices. \n",
    "\n",
    "Notice: The required csv file is available in the repository."
   ]
  },
  {
   "cell_type": "code",
   "execution_count": 6,
   "metadata": {},
   "outputs": [],
   "source": [
    "#import necessary packages\n",
    "import pandas as pd\n",
    "import numpy as np\n",
    "\n",
    "%matplotlib inline\n",
    "import matplotlib.pyplot as plt\n",
    "\n",
    "from sklearn.linear_model import LinearRegression #linear regression model\n",
    "\n",
    "from sklearn.model_selection import train_test_split #train/test splitting of data"
   ]
  },
  {
   "cell_type": "code",
   "execution_count": 7,
   "metadata": {},
   "outputs": [],
   "source": [
    "#define data frame\n",
    "df = pd.read_csv(\"flatprices.csv\")\n",
    "\n",
    "#notice that an excel file would be defined via \n",
    "#df = pd.read_excel(\"filename.xlsx\")\n",
    "#notice that for a csv file with columns separated via \";\" we use\n",
    "#df = pd.read_csv(\"filename.csv\", sep=\";\")"
   ]
  },
  {
   "cell_type": "code",
   "execution_count": 8,
   "metadata": {},
   "outputs": [],
   "source": [
    "#print the entire data frame\n",
    "#df"
   ]
  },
  {
   "cell_type": "code",
   "execution_count": 9,
   "metadata": {},
   "outputs": [
    {
     "data": {
      "text/html": [
       "<div>\n",
       "<style scoped>\n",
       "    .dataframe tbody tr th:only-of-type {\n",
       "        vertical-align: middle;\n",
       "    }\n",
       "\n",
       "    .dataframe tbody tr th {\n",
       "        vertical-align: top;\n",
       "    }\n",
       "\n",
       "    .dataframe thead th {\n",
       "        text-align: right;\n",
       "    }\n",
       "</style>\n",
       "<table border=\"1\" class=\"dataframe\">\n",
       "  <thead>\n",
       "    <tr style=\"text-align: right;\">\n",
       "      <th></th>\n",
       "      <th>squaremeters</th>\n",
       "      <th>price</th>\n",
       "    </tr>\n",
       "  </thead>\n",
       "  <tbody>\n",
       "    <tr>\n",
       "      <th>0</th>\n",
       "      <td>70</td>\n",
       "      <td>351000</td>\n",
       "    </tr>\n",
       "    <tr>\n",
       "      <th>1</th>\n",
       "      <td>72</td>\n",
       "      <td>390000</td>\n",
       "    </tr>\n",
       "    <tr>\n",
       "      <th>2</th>\n",
       "      <td>91</td>\n",
       "      <td>473000</td>\n",
       "    </tr>\n",
       "    <tr>\n",
       "      <th>3</th>\n",
       "      <td>58</td>\n",
       "      <td>282000</td>\n",
       "    </tr>\n",
       "    <tr>\n",
       "      <th>4</th>\n",
       "      <td>49</td>\n",
       "      <td>300000</td>\n",
       "    </tr>\n",
       "  </tbody>\n",
       "</table>\n",
       "</div>"
      ],
      "text/plain": [
       "   squaremeters   price\n",
       "0            70  351000\n",
       "1            72  390000\n",
       "2            91  473000\n",
       "3            58  282000\n",
       "4            49  300000"
      ]
     },
     "execution_count": 9,
     "metadata": {},
     "output_type": "execute_result"
    }
   ],
   "source": [
    "#print the head of the data frame\n",
    "df.head()"
   ]
  },
  {
   "cell_type": "code",
   "execution_count": 10,
   "metadata": {},
   "outputs": [],
   "source": [
    "#print a particular column of the data frame\n",
    "#df[\"squaremeters\"]"
   ]
  },
  {
   "cell_type": "code",
   "execution_count": 11,
   "metadata": {},
   "outputs": [
    {
     "data": {
      "image/png": "[encoded data removed]",
      "text/plain": [
       "<Figure size 432x288 with 1 Axes>"
      ]
     },
     "metadata": {
      "needs_background": "light"
     },
     "output_type": "display_data"
    }
   ],
   "source": [
    "#plot the data frame as a scatter plot\n",
    "plt.scatter(df[\"squaremeters\"],df[\"price\"])\n",
    "plt.show()"
   ]
  },
  {
   "cell_type": "code",
   "execution_count": 12,
   "metadata": {},
   "outputs": [
    {
     "name": "stdout",
     "output_type": "stream",
     "text": [
      "Intercept: [3143.28481869]\n",
      "Coef: [[5071.35242619]]\n"
     ]
    }
   ],
   "source": [
    "#building the linear regression model\n",
    "model = LinearRegression()\n",
    "X = df[[\"squaremeters\"]]             #notice the double brackets to bring the data frame column into the right shape\n",
    "Y = df[[\"price\"]]\n",
    "model.fit(X,Y)\n",
    "\n",
    "#print the coefficients of \"y=a * x + b\"\n",
    "print(\"Intercept: \" + str(model.intercept_))\n",
    "print(\"Coef: \" + str(model.coef_))"
   ]
  },
  {
   "cell_type": "code",
   "execution_count": 13,
   "metadata": {},
   "outputs": [],
   "source": [
    "#compare df[[\"...\"]]  to df[\"...\"]\n",
    "#df[[\"squaremeters\"]]\n",
    "#df[\"squaremeters\"]"
   ]
  },
  {
   "cell_type": "code",
   "execution_count": 14,
   "metadata": {},
   "outputs": [
    {
     "name": "stdout",
     "output_type": "stream",
     "text": [
      "231354.14\n"
     ]
    }
   ],
   "source": [
    "#from the coefficients we can define the model to make predictions\n",
    "# manually, we proceed via\n",
    "#y = 5071.35242619 * x + 3143.28481869\n",
    "#print an example where the result is rounded\n",
    "print(round(5071.35242619 * 45 + 3143.28481869,2))"
   ]
  },
  {
   "cell_type": "code",
   "execution_count": 15,
   "metadata": {},
   "outputs": [],
   "source": [
    "#we can also automate this prediction of prices\n",
    "min_x = min(df[\"squaremeters\"])\n",
    "max_x = max(df[\"squaremeters\"])\n",
    "\n",
    "predicted = model.predict([[min_x],[max_x]])\n",
    "#round(model.predict([[min_x],[max_x]])[0][0])\n",
    "#round(model.predict([[min_x],[max_x]])[1][0])"
   ]
  },
  {
   "cell_type": "code",
   "execution_count": 16,
   "metadata": {},
   "outputs": [
    {
     "data": {
      "image/png": "[encoded data removed]",
      "text/plain": [
       "<Figure size 432x288 with 1 Axes>"
      ]
     },
     "metadata": {
      "needs_background": "light"
     },
     "output_type": "display_data"
    }
   ],
   "source": [
    "#plot these predictions superimposed oer the data frame\n",
    "plt.scatter(df[\"squaremeters\"], df[\"price\"])\n",
    "plt.plot([min_x,max_x],predicted,color = \"red\")\n",
    "plt.show()"
   ]
  },
  {
   "cell_type": "markdown",
   "metadata": {},
   "source": [
    "In the following we would like to split the data into training and test set and redo our analysis:"
   ]
  },
  {
   "cell_type": "code",
   "execution_count": 18,
   "metadata": {},
   "outputs": [],
   "source": [
    "#define X,Y from data frame\n",
    "X = df[[\"squaremeters\"]].values #to generate numpy array, check via type(X)\n",
    "Y = df[[\"price\"]].values"
   ]
  },
  {
   "cell_type": "code",
   "execution_count": 22,
   "metadata": {},
   "outputs": [],
   "source": [
    "#split X and Y into train and test sets\n",
    "X_train, X_test, Y_train, Y_test = train_test_split(X, Y, random_state = 0, test_size = 0.25) #random_state = 0 (could be any integer) # test_size =... to define train/test set ratio"
   ]
  },
  {
   "cell_type": "code",
   "execution_count": 24,
   "metadata": {},
   "outputs": [
    {
     "data": {
      "image/png": "[encoded data removed]",
      "text/plain": [
       "<Figure size 432x288 with 1 Axes>"
      ]
     },
     "metadata": {
      "needs_background": "light"
     },
     "output_type": "display_data"
    }
   ],
   "source": [
    "#vizialize training data vs. test data\n",
    "plt.scatter(X_train,Y_train)\n",
    "plt.scatter(X_test,Y_test, color=\"red\")\n",
    "plt.show()"
   ]
  },
  {
   "cell_type": "code",
   "execution_count": 25,
   "metadata": {},
   "outputs": [
    {
     "name": "stdout",
     "output_type": "stream",
     "text": [
      "Intercept: [-11170.16669668]\n",
      "Coef: [[5282.55588241]]\n"
     ]
    }
   ],
   "source": [
    "#train the \"mature\" model using the split data\n",
    "model = LinearRegression()\n",
    "model.fit(X_train,Y_train)\n",
    "\n",
    "#print the coefficients of \"y=a * x + b\"\n",
    "print(\"Intercept: \" + str(model.intercept_))\n",
    "print(\"Coef: \" + str(model.coef_))"
   ]
  },
  {
   "cell_type": "markdown",
   "metadata": {},
   "source": [
    "We observe that the coefficients differ from the previously computed ones due to the splitting of the data."
   ]
  },
  {
   "cell_type": "markdown",
   "metadata": {},
   "source": [
    "In the following we want to graphically compare the predicted values to the remaining test intances:"
   ]
  },
  {
   "cell_type": "code",
   "execution_count": 27,
   "metadata": {},
   "outputs": [],
   "source": [
    "#predicted Y data from X_test according to our model\n",
    "predicted = model.predict(X_test)"
   ]
  },
  {
   "cell_type": "code",
   "execution_count": 28,
   "metadata": {},
   "outputs": [
    {
     "data": {
      "image/png": "[encoded data removed]",
      "text/plain": [
       "<Figure size 432x288 with 1 Axes>"
      ]
     },
     "metadata": {
      "needs_background": "light"
     },
     "output_type": "display_data"
    }
   ],
   "source": [
    "#visualize X_test,Y_test vs X_test, predicted to check model\n",
    "plt.scatter(X_test,Y_test, color =\"red\")\n",
    "plt.plot(X_test, predicted)\n",
    "plt.show()"
   ]
  },
  {
   "cell_type": "markdown",
   "metadata": {},
   "source": [
    "## Case 2: Prediction of car prices\n",
    "\n",
    "In the following we want to define a data frame from a simple csv file and build a linear regression model. The data presented by the file relates the number of driven kilometers of cars to their prices.\n",
    "\n",
    "Notice: The required csv file is available in the repository."
   ]
  },
  {
   "cell_type": "code",
   "execution_count": 31,
   "metadata": {},
   "outputs": [],
   "source": [
    "#define data frame\n",
    "df = pd.read_csv(\"cars_prepared.csv\")"
   ]
  },
  {
   "cell_type": "code",
   "execution_count": 32,
   "metadata": {},
   "outputs": [
    {
     "data": {
      "text/html": [
       "<div>\n",
       "<style scoped>\n",
       "    .dataframe tbody tr th:only-of-type {\n",
       "        vertical-align: middle;\n",
       "    }\n",
       "\n",
       "    .dataframe tbody tr th {\n",
       "        vertical-align: top;\n",
       "    }\n",
       "\n",
       "    .dataframe thead th {\n",
       "        text-align: right;\n",
       "    }\n",
       "</style>\n",
       "<table border=\"1\" class=\"dataframe\">\n",
       "  <thead>\n",
       "    <tr style=\"text-align: right;\">\n",
       "      <th></th>\n",
       "      <th>price</th>\n",
       "      <th>yearOfRegistration</th>\n",
       "      <th>powerPS</th>\n",
       "      <th>kilometer</th>\n",
       "      <th>model</th>\n",
       "      <th>fuelType</th>\n",
       "      <th>name</th>\n",
       "    </tr>\n",
       "  </thead>\n",
       "  <tbody>\n",
       "    <tr>\n",
       "      <th>0</th>\n",
       "      <td>1450</td>\n",
       "      <td>1997</td>\n",
       "      <td>75</td>\n",
       "      <td>90000</td>\n",
       "      <td>andere</td>\n",
       "      <td>benzin</td>\n",
       "      <td>Toyota_Toyota_Starlet_1._Hand__TÜV_neu</td>\n",
       "    </tr>\n",
       "    <tr>\n",
       "      <th>1</th>\n",
       "      <td>13100</td>\n",
       "      <td>2005</td>\n",
       "      <td>280</td>\n",
       "      <td>5000</td>\n",
       "      <td>golf</td>\n",
       "      <td>benzin</td>\n",
       "      <td>R32_tauschen_oder_kaufen</td>\n",
       "    </tr>\n",
       "    <tr>\n",
       "      <th>2</th>\n",
       "      <td>4500</td>\n",
       "      <td>2008</td>\n",
       "      <td>87</td>\n",
       "      <td>90000</td>\n",
       "      <td>yaris</td>\n",
       "      <td>benzin</td>\n",
       "      <td>Toyota_Yaris_1.3_VVT_i</td>\n",
       "    </tr>\n",
       "    <tr>\n",
       "      <th>3</th>\n",
       "      <td>6000</td>\n",
       "      <td>2009</td>\n",
       "      <td>177</td>\n",
       "      <td>125000</td>\n",
       "      <td>3er</td>\n",
       "      <td>diesel</td>\n",
       "      <td>320_Alpinweiss_Kohlenstoff</td>\n",
       "    </tr>\n",
       "    <tr>\n",
       "      <th>4</th>\n",
       "      <td>3990</td>\n",
       "      <td>1999</td>\n",
       "      <td>118</td>\n",
       "      <td>90000</td>\n",
       "      <td>3er</td>\n",
       "      <td>benzin</td>\n",
       "      <td>BMW_318i_E46_+++_1._Hand_+++_Liebhaberfahrzeug</td>\n",
       "    </tr>\n",
       "  </tbody>\n",
       "</table>\n",
       "</div>"
      ],
      "text/plain": [
       "   price  yearOfRegistration  powerPS  kilometer   model fuelType  \\\n",
       "0   1450                1997       75      90000  andere   benzin   \n",
       "1  13100                2005      280       5000    golf   benzin   \n",
       "2   4500                2008       87      90000   yaris   benzin   \n",
       "3   6000                2009      177     125000     3er   diesel   \n",
       "4   3990                1999      118      90000     3er   benzin   \n",
       "\n",
       "                                             name  \n",
       "0          Toyota_Toyota_Starlet_1._Hand__TÜV_neu  \n",
       "1                        R32_tauschen_oder_kaufen  \n",
       "2                          Toyota_Yaris_1.3_VVT_i  \n",
       "3                      320_Alpinweiss_Kohlenstoff  \n",
       "4  BMW_318i_E46_+++_1._Hand_+++_Liebhaberfahrzeug  "
      ]
     },
     "execution_count": 32,
     "metadata": {},
     "output_type": "execute_result"
    }
   ],
   "source": [
    "#print the head of the data frame\n",
    "df.head()"
   ]
  },
  {
   "cell_type": "code",
   "execution_count": 33,
   "metadata": {},
   "outputs": [],
   "source": [
    "#print a particular column of the data frame\n",
    "#df[\"price\"]\n",
    "#df[\"kilometer\"]"
   ]
  },
  {
   "cell_type": "code",
   "execution_count": 34,
   "metadata": {
    "scrolled": true
   },
   "outputs": [
    {
     "data": {
      "image/png": "[encoded data removed]",
      "text/plain": [
       "<Figure size 432x288 with 1 Axes>"
      ]
     },
     "metadata": {
      "needs_background": "light"
     },
     "output_type": "display_data"
    }
   ],
   "source": [
    "#plot the data frame as a scatter plot\n",
    "plt.scatter(df[\"kilometer\"],df[\"price\"])\n",
    "plt.show()"
   ]
  },
  {
   "cell_type": "code",
   "execution_count": 35,
   "metadata": {},
   "outputs": [
    {
     "name": "stdout",
     "output_type": "stream",
     "text": [
      "Intercept: [15988.72674252]\n",
      "Coef: [[-0.0879714]]\n"
     ]
    }
   ],
   "source": [
    "#building the linear regression model\n",
    "model = LinearRegression()\n",
    "X = df[[\"kilometer\"]]             #notice the double brackets to bring the data frame column into the right shape\n",
    "Y = df[[\"price\"]]\n",
    "model.fit(X,Y)\n",
    "\n",
    "#print the coefficients of \"y=a * x + b\"\n",
    "print(\"Intercept: \" + str(model.intercept_))\n",
    "print(\"Coef: \" + str(model.coef_))"
   ]
  },
  {
   "cell_type": "code",
   "execution_count": 36,
   "metadata": {},
   "outputs": [],
   "source": [
    "#we can also automate this prediction of prices\n",
    "min_x = min(df[\"kilometer\"])\n",
    "max_x = max(df[\"kilometer\"])\n",
    "\n",
    "predicted = model.predict([[min_x],[max_x]])\n",
    "#round(model.predict([[min_x],[max_x]])[0][0])\n",
    "#round(model.predict([[min_x],[max_x]])[1][0])"
   ]
  },
  {
   "cell_type": "code",
   "execution_count": 37,
   "metadata": {},
   "outputs": [
    {
     "data": {
      "image/png": "[encoded data removed]",
      "text/plain": [
       "<Figure size 432x288 with 1 Axes>"
      ]
     },
     "metadata": {
      "needs_background": "light"
     },
     "output_type": "display_data"
    }
   ],
   "source": [
    "#plot these predictions superimposed oer the data frame\n",
    "plt.scatter(df[\"kilometer\"], df[\"price\"])\n",
    "plt.plot([min_x,max_x],predicted,color = \"red\")\n",
    "plt.show()"
   ]
  },
  {
   "cell_type": "code",
   "execution_count": 38,
   "metadata": {},
   "outputs": [
    {
     "data": {
      "text/plain": [
       "4992.0"
      ]
     },
     "execution_count": 38,
     "metadata": {},
     "output_type": "execute_result"
    }
   ],
   "source": [
    "#According to the model, what is the price of a car which has driven 55000 km?\n",
    "model.predict([[0],[55000]])\n",
    "round(model.predict([[min_x],[max_x]])[1][0])\n"
   ]
  },
  {
   "cell_type": "markdown",
   "metadata": {},
   "source": [
    "Notice that according to our model the value of a car decreases by about 9 cents per driven kilometer!"
   ]
  },
  {
   "cell_type": "markdown",
   "metadata": {},
   "source": [
    "In the following we would like to split the data into training and test set and redo our analysis:"
   ]
  },
  {
   "cell_type": "code",
   "execution_count": 39,
   "metadata": {},
   "outputs": [],
   "source": [
    "#define X,Y from data frame\n",
    "X = df[[\"kilometer\"]].values #to generate numpy array, check via type(X)\n",
    "Y = df[[\"price\"]].values\n",
    "\n",
    "#split X and Y into train and test sets\n",
    "X_train, X_test, Y_train, Y_test = train_test_split(X, Y, random_state = 0, test_size = 0.25) #random_state = 0 (could be any integer) # test_size =... to define train/test set ratio"
   ]
  },
  {
   "cell_type": "code",
   "execution_count": 40,
   "metadata": {},
   "outputs": [
    {
     "data": {
      "image/png": "[encoded data removed]",
      "text/plain": [
       "<Figure size 432x288 with 1 Axes>"
      ]
     },
     "metadata": {
      "needs_background": "light"
     },
     "output_type": "display_data"
    }
   ],
   "source": [
    "#vizialize training data vs. test data\n",
    "plt.scatter(X_train,Y_train)\n",
    "plt.scatter(X_test,Y_test, color=\"red\")\n",
    "plt.show()"
   ]
  },
  {
   "cell_type": "code",
   "execution_count": 42,
   "metadata": {},
   "outputs": [
    {
     "name": "stdout",
     "output_type": "stream",
     "text": [
      "Intercept: [14971.46689814]\n",
      "Coef: [[-0.07581664]]\n"
     ]
    }
   ],
   "source": [
    "#train the \"mature\" model using the split data\n",
    "model = LinearRegression()\n",
    "model.fit(X_train,Y_train)\n",
    "\n",
    "#print the coefficients of \"y=a * x + b\"\n",
    "print(\"Intercept: \" + str(model.intercept_))\n",
    "print(\"Coef: \" + str(model.coef_))"
   ]
  },
  {
   "cell_type": "markdown",
   "metadata": {},
   "source": [
    "We observe that the coefficients differ from the previously computed ones due to the splitting of the data."
   ]
  },
  {
   "cell_type": "markdown",
   "metadata": {},
   "source": [
    "In the following we want to graphically compare the predicted values to the remaining test intances:"
   ]
  },
  {
   "cell_type": "code",
   "execution_count": 43,
   "metadata": {},
   "outputs": [],
   "source": [
    "#predicted Y data from X_test according to our model\n",
    "predicted = model.predict(X_test)"
   ]
  },
  {
   "cell_type": "code",
   "execution_count": 44,
   "metadata": {},
   "outputs": [
    {
     "data": {
      "image/png": "[encoded data removed]",
      "text/plain": [
       "<Figure size 432x288 with 1 Axes>"
      ]
     },
     "metadata": {
      "needs_background": "light"
     },
     "output_type": "display_data"
    }
   ],
   "source": [
    "#visualize X_test,Y_test vs X_test, predicted to check model\n",
    "plt.scatter(X_test,Y_test, color =\"red\")\n",
    "plt.plot(X_test, predicted)\n",
    "plt.show()"
   ]
  },
  {
   "cell_type": "code",
   "execution_count": null,
   "metadata": {},
   "outputs": [],
   "source": []
  }
 ],
 "metadata": {
  "kernelspec": {
   "display_name": "Python 3",
   "language": "python",
   "name": "python3"
  },
  "language_info": {
   "codemirror_mode": {
    "name": "ipython",
    "version": 3
   },
   "file_extension": ".py",
   "mimetype": "text/x-python",
   "name": "python",
   "nbconvert_exporter": "python",
   "pygments_lexer": "ipython3",
   "version": "3.6.7"
  }
 },
 "nbformat": 4,
 "nbformat_minor": 2
}
