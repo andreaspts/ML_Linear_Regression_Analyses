{
 "cells": [
  {
   "cell_type": "markdown",
   "metadata": {},
   "source": [
    "# Building two simple polynomial regression model"
   ]
  },
  {
   "cell_type": "markdown",
   "metadata": {},
   "source": [
    "We generate polynomial regressions for two data sets and compare the R2 scores to linear regressions."
   ]
  },
  {
   "cell_type": "markdown",
   "metadata": {},
   "source": [
    "## Case 1: Profit prediction for an agricultural problem\n",
    "\n",
    "In the following we would like to predict profits on harvest for certain field sizes."
   ]
  },
  {
   "cell_type": "code",
   "execution_count": 150,
   "metadata": {},
   "outputs": [],
   "source": [
    "#importing the necessary packages\n",
    "import pandas as pd\n",
    "import numpy as np\n",
    "\n",
    "from sklearn.model_selection import train_test_split\n",
    "from sklearn.linear_model import LinearRegression\n",
    "\n",
    "from sklearn.preprocessing import PolynomialFeatures"
   ]
  },
  {
   "cell_type": "code",
   "execution_count": 185,
   "metadata": {},
   "outputs": [],
   "source": [
    "#define data frame\n",
    "df = pd.read_csv(\"fields.csv\")"
   ]
  },
  {
   "cell_type": "code",
   "execution_count": 186,
   "metadata": {},
   "outputs": [
    {
     "data": {
      "text/html": [
       "<div>\n",
       "<style scoped>\n",
       "    .dataframe tbody tr th:only-of-type {\n",
       "        vertical-align: middle;\n",
       "    }\n",
       "\n",
       "    .dataframe tbody tr th {\n",
       "        vertical-align: top;\n",
       "    }\n",
       "\n",
       "    .dataframe thead th {\n",
       "        text-align: right;\n",
       "    }\n",
       "</style>\n",
       "<table border=\"1\" class=\"dataframe\">\n",
       "  <thead>\n",
       "    <tr style=\"text-align: right;\">\n",
       "      <th></th>\n",
       "      <th>length</th>\n",
       "      <th>profit</th>\n",
       "      <th>width</th>\n",
       "    </tr>\n",
       "  </thead>\n",
       "  <tbody>\n",
       "    <tr>\n",
       "      <th>0</th>\n",
       "      <td>807.0</td>\n",
       "      <td>634630.0</td>\n",
       "      <td>1032.0</td>\n",
       "    </tr>\n",
       "    <tr>\n",
       "      <th>1</th>\n",
       "      <td>299.0</td>\n",
       "      <td>124074.0</td>\n",
       "      <td>337.0</td>\n",
       "    </tr>\n",
       "    <tr>\n",
       "      <th>2</th>\n",
       "      <td>431.0</td>\n",
       "      <td>1338300.0</td>\n",
       "      <td>1631.0</td>\n",
       "    </tr>\n",
       "    <tr>\n",
       "      <th>3</th>\n",
       "      <td>744.0</td>\n",
       "      <td>327720.0</td>\n",
       "      <td>553.0</td>\n",
       "    </tr>\n",
       "    <tr>\n",
       "      <th>4</th>\n",
       "      <td>364.0</td>\n",
       "      <td>500244.0</td>\n",
       "      <td>827.0</td>\n",
       "    </tr>\n",
       "  </tbody>\n",
       "</table>\n",
       "</div>"
      ],
      "text/plain": [
       "   length     profit   width\n",
       "0   807.0   634630.0  1032.0\n",
       "1   299.0   124074.0   337.0\n",
       "2   431.0  1338300.0  1631.0\n",
       "3   744.0   327720.0   553.0\n",
       "4   364.0   500244.0   827.0"
      ]
     },
     "execution_count": 186,
     "metadata": {},
     "output_type": "execute_result"
    }
   ],
   "source": [
    "df.head()"
   ]
  },
  {
   "cell_type": "markdown",
   "metadata": {},
   "source": [
    "We start off with a simple linear regression:"
   ]
  },
  {
   "cell_type": "code",
   "execution_count": 187,
   "metadata": {},
   "outputs": [
    {
     "name": "stdout",
     "output_type": "stream",
     "text": [
      "0.9265510548118597\n"
     ]
    }
   ],
   "source": [
    "#define the variables\n",
    "X = df[[\"width\", \"length\"]].values\n",
    "Y = df[[\"profit\"]].values\n",
    "\n",
    "#split the data set into training and test set\n",
    "X_train, X_test, Y_train, Y_test = train_test_split(X, Y, random_state = 0, test_size = 0.25)\n",
    "\n",
    "#train the model\n",
    "model = LinearRegression()\n",
    "model.fit(X_train, Y_train)\n",
    "\n",
    "#report the R2 score\n",
    "print(model.score(X_test, Y_test))"
   ]
  },
  {
   "cell_type": "markdown",
   "metadata": {},
   "source": [
    "In a next step we proceed with an attempt at polynomial fitting for the data:"
   ]
  },
  {
   "cell_type": "code",
   "execution_count": 190,
   "metadata": {},
   "outputs": [
    {
     "name": "stdout",
     "output_type": "stream",
     "text": [
      "0.9878259248140406\n"
     ]
    }
   ],
   "source": [
    "#PolynomialFeatures?\n",
    "\n",
    "pf = PolynomialFeatures(degree = 2, include_bias = False) #bias term not needed here\n",
    "#need to fit the training data accordingly (demanded by sklearn) to adapt to polynomial fitting\n",
    "pf.fit(X_train)\n",
    "\n",
    "#generate new columns\n",
    "X_train_transformed = pf.transform(X_train)\n",
    "X_test_transformed = pf.transform(X_test)\n",
    "\n",
    "#print all possible arrangements to get to a polynomial of degree 2 (as done by the transform method)\n",
    "#print(pf.powers_) \n",
    "\n",
    "model = LinearRegression()\n",
    "model.fit(X_train_transformed, Y_train)\n",
    "\n",
    "print(model.score(X_test_transformed, Y_test))"
   ]
  },
  {
   "cell_type": "markdown",
   "metadata": {},
   "source": [
    "We may redo the analysis without the random_state option in the train test function:"
   ]
  },
  {
   "cell_type": "code",
   "execution_count": 207,
   "metadata": {},
   "outputs": [
    {
     "name": "stdout",
     "output_type": "stream",
     "text": [
      "Average score: 0.986807601767222\n"
     ]
    }
   ],
   "source": [
    "scores = []\n",
    "intercepts = []\n",
    "coefs = []\n",
    "\n",
    "for i in range(0,1000):\n",
    "    X_train, X_test, Y_train, Y_test = train_test_split(X, Y, test_size = 0.25)\n",
    "    X_train_transformed = pf.transform(X_train)\n",
    "    X_test_transformed = pf.transform(X_test)\n",
    "\n",
    "    model = LinearRegression()\n",
    "    model.fit(X_train_transformed, Y_train)\n",
    "    \n",
    "    intercepts.append(model.intercept_)\n",
    "    coefs.append(model.coef_)\n",
    "    scores.append(model.score(X_test_transformed, Y_test))\n",
    "    \n",
    "print(\"Average score: \" + str(sum(scores)/ len(scores)))\n"
   ]
  },
  {
   "cell_type": "code",
   "execution_count": 208,
   "metadata": {},
   "outputs": [],
   "source": [
    "#np.array(coefs).shape"
   ]
  },
  {
   "cell_type": "markdown",
   "metadata": {},
   "source": [
    "Now we would like to filter out columns from the fitting procedure:"
   ]
  },
  {
   "cell_type": "code",
   "execution_count": 210,
   "metadata": {},
   "outputs": [
    {
     "name": "stdout",
     "output_type": "stream",
     "text": [
      "Average score: 0.9868476616439141\n"
     ]
    }
   ],
   "source": [
    "scores = []\n",
    "intercepts = []\n",
    "coefs = []\n",
    "\n",
    "for i in range(0,1000):\n",
    "    X_train, X_test, Y_train, Y_test = train_test_split(X, Y, test_size = 0.25)\n",
    "    \n",
    "    #we may exclude certain columns from the fitting and check if the score improves\n",
    "    X_train_transformed = pf.transform(X_train)[:, [0, 1, 2, 3, 4]]\n",
    "    X_test_transformed = pf.transform(X_test)[:, [0, 1, 2, 3, 4]]\n",
    "\n",
    "    model = LinearRegression()\n",
    "    model.fit(X_train_transformed, Y_train)\n",
    "    \n",
    "    intercepts.append(model.intercept_)\n",
    "    coefs.append(model.coef_)\n",
    "    scores.append(model.score(X_test_transformed, Y_test))\n",
    "    \n",
    "print(\"Average score: \" + str(sum(scores)/ len(scores)))\n"
   ]
  },
  {
   "cell_type": "markdown",
   "metadata": {},
   "source": [
    "## Case 2: Diamond price prediction\n",
    "\n",
    "In the following we would like to model the prices of diamonds via linear and polynomial regressions and compare the quality of the results via the R2 score."
   ]
  },
  {
   "cell_type": "code",
   "execution_count": 223,
   "metadata": {},
   "outputs": [
    {
     "data": {
      "text/html": [
       "<div>\n",
       "<style scoped>\n",
       "    .dataframe tbody tr th:only-of-type {\n",
       "        vertical-align: middle;\n",
       "    }\n",
       "\n",
       "    .dataframe tbody tr th {\n",
       "        vertical-align: top;\n",
       "    }\n",
       "\n",
       "    .dataframe thead th {\n",
       "        text-align: right;\n",
       "    }\n",
       "</style>\n",
       "<table border=\"1\" class=\"dataframe\">\n",
       "  <thead>\n",
       "    <tr style=\"text-align: right;\">\n",
       "      <th></th>\n",
       "      <th>carat</th>\n",
       "      <th>cut</th>\n",
       "      <th>color</th>\n",
       "      <th>clarity</th>\n",
       "      <th>depth</th>\n",
       "      <th>table</th>\n",
       "      <th>price</th>\n",
       "      <th>x</th>\n",
       "      <th>y</th>\n",
       "      <th>z</th>\n",
       "    </tr>\n",
       "  </thead>\n",
       "  <tbody>\n",
       "    <tr>\n",
       "      <th>0</th>\n",
       "      <td>0.23</td>\n",
       "      <td>Ideal</td>\n",
       "      <td>E</td>\n",
       "      <td>SI2</td>\n",
       "      <td>61.5</td>\n",
       "      <td>55.0</td>\n",
       "      <td>326</td>\n",
       "      <td>3.95</td>\n",
       "      <td>3.98</td>\n",
       "      <td>2.43</td>\n",
       "    </tr>\n",
       "    <tr>\n",
       "      <th>1</th>\n",
       "      <td>0.21</td>\n",
       "      <td>Premium</td>\n",
       "      <td>E</td>\n",
       "      <td>SI1</td>\n",
       "      <td>59.8</td>\n",
       "      <td>61.0</td>\n",
       "      <td>326</td>\n",
       "      <td>3.89</td>\n",
       "      <td>3.84</td>\n",
       "      <td>2.31</td>\n",
       "    </tr>\n",
       "    <tr>\n",
       "      <th>2</th>\n",
       "      <td>0.23</td>\n",
       "      <td>Good</td>\n",
       "      <td>E</td>\n",
       "      <td>VS1</td>\n",
       "      <td>56.9</td>\n",
       "      <td>65.0</td>\n",
       "      <td>327</td>\n",
       "      <td>4.05</td>\n",
       "      <td>4.07</td>\n",
       "      <td>2.31</td>\n",
       "    </tr>\n",
       "    <tr>\n",
       "      <th>3</th>\n",
       "      <td>0.29</td>\n",
       "      <td>Premium</td>\n",
       "      <td>I</td>\n",
       "      <td>VS2</td>\n",
       "      <td>62.4</td>\n",
       "      <td>58.0</td>\n",
       "      <td>334</td>\n",
       "      <td>4.20</td>\n",
       "      <td>4.23</td>\n",
       "      <td>2.63</td>\n",
       "    </tr>\n",
       "    <tr>\n",
       "      <th>4</th>\n",
       "      <td>0.31</td>\n",
       "      <td>Good</td>\n",
       "      <td>J</td>\n",
       "      <td>SI2</td>\n",
       "      <td>63.3</td>\n",
       "      <td>58.0</td>\n",
       "      <td>335</td>\n",
       "      <td>4.34</td>\n",
       "      <td>4.35</td>\n",
       "      <td>2.75</td>\n",
       "    </tr>\n",
       "  </tbody>\n",
       "</table>\n",
       "</div>"
      ],
      "text/plain": [
       "   carat      cut color clarity  depth  table  price     x     y     z\n",
       "0   0.23    Ideal     E     SI2   61.5   55.0    326  3.95  3.98  2.43\n",
       "1   0.21  Premium     E     SI1   59.8   61.0    326  3.89  3.84  2.31\n",
       "2   0.23     Good     E     VS1   56.9   65.0    327  4.05  4.07  2.31\n",
       "3   0.29  Premium     I     VS2   62.4   58.0    334  4.20  4.23  2.63\n",
       "4   0.31     Good     J     SI2   63.3   58.0    335  4.34  4.35  2.75"
      ]
     },
     "execution_count": 223,
     "metadata": {},
     "output_type": "execute_result"
    }
   ],
   "source": [
    "#define data frame\n",
    "df = pd.read_csv(\"diamonds.csv\")\n",
    "df.head()"
   ]
  },
  {
   "cell_type": "markdown",
   "metadata": {},
   "source": [
    "We start off with two simple linear regressions to get a feeling for the system:"
   ]
  },
  {
   "cell_type": "code",
   "execution_count": 226,
   "metadata": {},
   "outputs": [
    {
     "name": "stdout",
     "output_type": "stream",
     "text": [
      "0.8506009410929625\n"
     ]
    }
   ],
   "source": [
    "# price over carat\n",
    "#define the variables\n",
    "X = df[[\"carat\"]].values\n",
    "Y = df[[\"price\"]].values\n",
    "\n",
    "#split the data set into training and test set\n",
    "X_train, X_test, Y_train, Y_test = train_test_split(X, Y, random_state = 0, test_size = 0.25)\n",
    "\n",
    "#train the model\n",
    "model = LinearRegression()\n",
    "model.fit(X_train, Y_train)\n",
    "\n",
    "#report the R2 score\n",
    "print(model.score(X_test, Y_test))"
   ]
  },
  {
   "cell_type": "code",
   "execution_count": 227,
   "metadata": {},
   "outputs": [
    {
     "name": "stdout",
     "output_type": "stream",
     "text": [
      "0.7834062179737853\n"
     ]
    }
   ],
   "source": [
    "# price over dimensions x,y,z\n",
    "#define the variables\n",
    "X = df[[\"x\",\"y\",\"z\"]].values\n",
    "Y = df[[\"price\"]].values\n",
    "\n",
    "#split the data set into training and test set\n",
    "X_train, X_test, Y_train, Y_test = train_test_split(X, Y, random_state = 0, test_size = 0.25)\n",
    "\n",
    "#train the model\n",
    "model = LinearRegression()\n",
    "model.fit(X_train, Y_train)\n",
    "\n",
    "#report the R2 score\n",
    "print(model.score(X_test, Y_test))"
   ]
  },
  {
   "cell_type": "markdown",
   "metadata": {},
   "source": [
    "Comment: Given this carat seems to be a good indicator for gauging the price of a diamond."
   ]
  },
  {
   "cell_type": "markdown",
   "metadata": {},
   "source": [
    "Now we try a polynomial regression:"
   ]
  },
  {
   "cell_type": "code",
   "execution_count": 251,
   "metadata": {},
   "outputs": [
    {
     "name": "stdout",
     "output_type": "stream",
     "text": [
      "Average score: -23.75882427600454\n"
     ]
    }
   ],
   "source": [
    "# price over dimensions x,y,z\n",
    "#define the variables\n",
    "X = df[[\"x\", \"y\", \"z\"]].values\n",
    "Y = df[[\"price\"]].values\n",
    "\n",
    "pf = PolynomialFeatures(degree = 2, include_bias = False) #bias term not needed here\n",
    "#need to fit the training data accordingly (demanded by sklearn) to adapt to polynomial fitting\n",
    "pf.fit(X_train)\n",
    "\n",
    "scores = []\n",
    "intercepts = []\n",
    "coefs = []\n",
    "\n",
    "for i in range(0,200):\n",
    "    X_train, X_test, Y_train, Y_test = train_test_split(X, Y, test_size = 0.25)\n",
    "    \n",
    "    #we may exclude certain columns from the fitting and check if the score improves\n",
    "    X_train_transformed = pf.transform(X_train)\n",
    "    X_test_transformed = pf.transform(X_test)\n",
    "    model = LinearRegression()\n",
    "    model.fit(X_train_transformed, Y_train)\n",
    "    \n",
    "    intercepts.append(model.intercept_)\n",
    "    coefs.append(model.coef_)\n",
    "    scores.append(model.score(X_test_transformed, Y_test))\n",
    "    \n",
    "print(\"Average score: \" + str(sum(scores)/ len(scores)))"
   ]
  },
  {
   "cell_type": "markdown",
   "metadata": {},
   "source": [
    "This result indicates that in the current setting the linear regression via dimensions outperforms the polynomial one while the linear and polynomial regressions via carats outperform those with respect to dimensions."
   ]
  },
  {
   "cell_type": "code",
   "execution_count": null,
   "metadata": {},
   "outputs": [],
   "source": []
  }
 ],
 "metadata": {
  "kernelspec": {
   "display_name": "Python 3",
   "language": "python",
   "name": "python3"
  },
  "language_info": {
   "codemirror_mode": {
    "name": "ipython",
    "version": 3
   },
   "file_extension": ".py",
   "mimetype": "text/x-python",
   "name": "python",
   "nbconvert_exporter": "python",
   "pygments_lexer": "ipython3",
   "version": "3.6.7"
  }
 },
 "nbformat": 4,
 "nbformat_minor": 2
}
