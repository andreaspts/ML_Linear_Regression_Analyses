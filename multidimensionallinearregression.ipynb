{
 "cells": [
  {
   "cell_type": "markdown",
   "metadata": {},
   "source": [
    "# Multi-dimensional linear regression"
   ]
  },
  {
   "cell_type": "markdown",
   "metadata": {},
   "source": [
    "## Case 1: Hotel price prediction"
   ]
  },
  {
   "cell_type": "markdown",
   "metadata": {},
   "source": [
    "In the following we want to create a model that predicts the prices for hotels based on different variables: revenue and square meters. We also want to check the quality of the model via the R2 score.\n",
    "\n",
    "Notice that linear regression is mathematically based on solving potentially large linear equation systems. When doing so, it is only necessary to include linearily independent columns from data frames, as dependent ones would only introduce redundant information and thus will not improve the quality of the fitting. If this is not a priori clear from the data frame itself LinearRegression() will identify these redundancies anyways, however, potentially at the cost of computational time."
   ]
  },
  {
   "cell_type": "code",
   "execution_count": 203,
   "metadata": {},
   "outputs": [],
   "source": [
    "#importin the necessary packages\n",
    "\n",
    "import pandas as pd\n",
    "import numpy as np\n",
    "\n",
    "from sklearn.model_selection import train_test_split\n",
    "from sklearn.linear_model import LinearRegression\n",
    "from sklearn.metrics import r2_score"
   ]
  },
  {
   "cell_type": "code",
   "execution_count": 189,
   "metadata": {},
   "outputs": [
    {
     "data": {
      "text/html": [
       "<div>\n",
       "<style scoped>\n",
       "    .dataframe tbody tr th:only-of-type {\n",
       "        vertical-align: middle;\n",
       "    }\n",
       "\n",
       "    .dataframe tbody tr th {\n",
       "        vertical-align: top;\n",
       "    }\n",
       "\n",
       "    .dataframe thead th {\n",
       "        text-align: right;\n",
       "    }\n",
       "</style>\n",
       "<table border=\"1\" class=\"dataframe\">\n",
       "  <thead>\n",
       "    <tr style=\"text-align: right;\">\n",
       "      <th></th>\n",
       "      <th>revenue</th>\n",
       "      <th>price in m</th>\n",
       "      <th>square meters</th>\n",
       "      <th>city</th>\n",
       "    </tr>\n",
       "  </thead>\n",
       "  <tbody>\n",
       "    <tr>\n",
       "      <th>0</th>\n",
       "      <td>119000.0</td>\n",
       "      <td>21.88</td>\n",
       "      <td>3938.0</td>\n",
       "      <td>Berlin</td>\n",
       "    </tr>\n",
       "    <tr>\n",
       "      <th>1</th>\n",
       "      <td>250000.0</td>\n",
       "      <td>27.95</td>\n",
       "      <td>3986.0</td>\n",
       "      <td>Munich</td>\n",
       "    </tr>\n",
       "    <tr>\n",
       "      <th>2</th>\n",
       "      <td>250000.0</td>\n",
       "      <td>16.09</td>\n",
       "      <td>2574.0</td>\n",
       "      <td>Cologne</td>\n",
       "    </tr>\n",
       "    <tr>\n",
       "      <th>3</th>\n",
       "      <td>145000.0</td>\n",
       "      <td>27.58</td>\n",
       "      <td>4155.0</td>\n",
       "      <td>Munich</td>\n",
       "    </tr>\n",
       "    <tr>\n",
       "      <th>4</th>\n",
       "      <td>110000.0</td>\n",
       "      <td>23.76</td>\n",
       "      <td>3795.0</td>\n",
       "      <td>Berlin</td>\n",
       "    </tr>\n",
       "  </tbody>\n",
       "</table>\n",
       "</div>"
      ],
      "text/plain": [
       "    revenue  price in m  square meters     city\n",
       "0  119000.0       21.88         3938.0   Berlin\n",
       "1  250000.0       27.95         3986.0   Munich\n",
       "2  250000.0       16.09         2574.0  Cologne\n",
       "3  145000.0       27.58         4155.0   Munich\n",
       "4  110000.0       23.76         3795.0   Berlin"
      ]
     },
     "execution_count": 189,
     "metadata": {},
     "output_type": "execute_result"
    }
   ],
   "source": [
    "#define data frame from csv file and print head\n",
    "\n",
    "df = pd.read_csv(\"hotels.csv\")\n",
    "\n",
    "df.head()"
   ]
  },
  {
   "cell_type": "code",
   "execution_count": 174,
   "metadata": {},
   "outputs": [],
   "source": [
    "#define the variables from the data frame convert to numpy arrays and print them\n",
    "X = df[[\"revenue\", \"square meters\"]].values\n",
    "Y = df[[\"price in m\"]].values\n",
    "#print(X,Y)"
   ]
  },
  {
   "cell_type": "code",
   "execution_count": 175,
   "metadata": {},
   "outputs": [],
   "source": [
    "#split X and Y into train and test sets\n",
    "X_train, X_test, Y_train, Y_test = train_test_split(X, Y, random_state = 0, test_size = 0.25)"
   ]
  },
  {
   "cell_type": "code",
   "execution_count": 176,
   "metadata": {},
   "outputs": [
    {
     "name": "stdout",
     "output_type": "stream",
     "text": [
      "Intercept: [6.48370247]\n",
      "Coef: [[6.39855984e-06 3.89642288e-03]]\n"
     ]
    }
   ],
   "source": [
    "#build model from training data\n",
    "model = LinearRegression()\n",
    "model.fit(X_train, Y_train)\n",
    "\n",
    "#print the coefficients of \"z=a * x + b * y+  c\"\n",
    "print(\"Intercept: \" + str(model.intercept_))\n",
    "print(\"Coef: \" + str(model.coef_))"
   ]
  },
  {
   "cell_type": "markdown",
   "metadata": {},
   "source": [
    "Comment: The result is sensitive towards the choice of \"random_state = ...\". We elaborate on this further down."
   ]
  },
  {
   "cell_type": "code",
   "execution_count": 177,
   "metadata": {},
   "outputs": [],
   "source": [
    "#generate prediction for remaining test data\n",
    "Y_test_pred = model.predict(X_test)\n",
    "\n",
    "#print(Y_test_pred)"
   ]
  },
  {
   "cell_type": "markdown",
   "metadata": {},
   "source": [
    "### R2 score to compare models"
   ]
  },
  {
   "cell_type": "markdown",
   "metadata": {},
   "source": [
    "We would like to compare our prediction to the actual test data: In a first step we juxtapose the respective values. In a second step we use the R2 score to gauge the quality of our model:\n",
    "(For information on this quantity, see: https://blog.minitab.com/blog/adventures-in-statistics-2/regression-analysis-how-do-i-interpret-r-squared-and-assess-the-goodness-of-fit)"
   ]
  },
  {
   "cell_type": "code",
   "execution_count": 178,
   "metadata": {},
   "outputs": [],
   "source": [
    "#simple comparison between predicted and actual test data\n",
    "#for i in range(0, len(Y_test_pred)):\n",
    "#    print(str(Y_test_pred[i][0]) + \" - \" + str(Y_test[i][0]))"
   ]
  },
  {
   "cell_type": "code",
   "execution_count": 179,
   "metadata": {},
   "outputs": [
    {
     "name": "stdout",
     "output_type": "stream",
     "text": [
      "0.8783249527580934\n"
     ]
    }
   ],
   "source": [
    "#define the R2 score:\n",
    "# r2_score? \n",
    "r2 = r2_score(Y_test, Y_test_pred)\n",
    "print(r2)"
   ]
  },
  {
   "cell_type": "markdown",
   "metadata": {},
   "source": [
    "Given that this value is close to 1 the model fits the data rather well."
   ]
  },
  {
   "cell_type": "markdown",
   "metadata": {},
   "source": [
    "We may also fit the model and get the score in a compact fashion:"
   ]
  },
  {
   "cell_type": "code",
   "execution_count": 180,
   "metadata": {},
   "outputs": [
    {
     "name": "stdout",
     "output_type": "stream",
     "text": [
      "0.8783249527580934\n"
     ]
    }
   ],
   "source": [
    "model = LinearRegression()\n",
    "model.fit(X_train, Y_train)\n",
    "\n",
    "print(model.score(X_test, Y_test))"
   ]
  },
  {
   "cell_type": "markdown",
   "metadata": {},
   "source": [
    "Given that the R2 score is sensitive towards the random_state option of the train_test_split function, we may average it over 1000 fits. In addition, this allows us to nicely compare different fitting procedures where more or less columns of the data frame are considered which ultimately makes it possible to see which data is of relevance and which not:"
   ]
  },
  {
   "cell_type": "code",
   "execution_count": 181,
   "metadata": {},
   "outputs": [
    {
     "name": "stdout",
     "output_type": "stream",
     "text": [
      "0.8189770791478341\n"
     ]
    }
   ],
   "source": [
    "#when considering the revenue and square meters column\n",
    "\n",
    "scores = []\n",
    "\n",
    "X = df[[\"revenue\",\"square meters\"]].values\n",
    "Y = df[[\"price in m\"]].values\n",
    "\n",
    "for i in range(0,1000):\n",
    "    X_train, X_test, Y_train, Y_test = train_test_split(X, Y, test_size = 0.25)\n",
    "    model = LinearRegression()\n",
    "    model.fit(X_train, Y_train)\n",
    "    scores.append(model.score(X_test, Y_test))\n",
    "    \n",
    "print(sum(scores)/ len(scores))"
   ]
  },
  {
   "cell_type": "code",
   "execution_count": 182,
   "metadata": {},
   "outputs": [
    {
     "name": "stdout",
     "output_type": "stream",
     "text": [
      "0.8211365797393368\n"
     ]
    }
   ],
   "source": [
    "#when considering the square meters column\n",
    "\n",
    "scores = []\n",
    "\n",
    "X = df[[\"square meters\"]].values\n",
    "Y = df[[\"price in m\"]].values\n",
    "\n",
    "for i in range(0,1000):\n",
    "    X_train, X_test, Y_train, Y_test = train_test_split(X, Y, test_size = 0.25)\n",
    "    model = LinearRegression()\n",
    "    model.fit(X_train, Y_train)\n",
    "    scores.append(model.score(X_test, Y_test))\n",
    "    \n",
    "print(sum(scores)/ len(scores))"
   ]
  },
  {
   "cell_type": "code",
   "execution_count": 183,
   "metadata": {},
   "outputs": [
    {
     "name": "stdout",
     "output_type": "stream",
     "text": [
      "0.3066324116319227\n"
     ]
    }
   ],
   "source": [
    "#when considering the revenue column\n",
    "\n",
    "scores = []\n",
    "\n",
    "X = df[[\"revenue\"]].values\n",
    "Y = df[[\"price in m\"]].values\n",
    "\n",
    "for i in range(0,1000):\n",
    "    X_train, X_test, Y_train, Y_test = train_test_split(X, Y, test_size = 0.25)\n",
    "    model = LinearRegression()\n",
    "    model.fit(X_train, Y_train)\n",
    "    scores.append(model.score(X_test, Y_test))\n",
    "    \n",
    "print(sum(scores)/ len(scores))"
   ]
  },
  {
   "cell_type": "markdown",
   "metadata": {},
   "source": [
    "From these values we deduce that the revenue column is not of significance to the model building/fitting."
   ]
  },
  {
   "cell_type": "markdown",
   "metadata": {},
   "source": [
    "### Including nominal data into the model building"
   ]
  },
  {
   "cell_type": "markdown",
   "metadata": {},
   "source": [
    "To include the information regarding the city we need the procedure of one-hot-encoding which can be implemented by a pandas method, see also http://queirozf.com/entries/one-hot-encoding-a-feature-on-a-pandas-dataframe-an-example and https://machinelearningmastery.com/how-to-one-hot-encode-sequence-data-in-python/."
   ]
  },
  {
   "cell_type": "code",
   "execution_count": 192,
   "metadata": {},
   "outputs": [
    {
     "data": {
      "text/html": [
       "<div>\n",
       "<style scoped>\n",
       "    .dataframe tbody tr th:only-of-type {\n",
       "        vertical-align: middle;\n",
       "    }\n",
       "\n",
       "    .dataframe tbody tr th {\n",
       "        vertical-align: top;\n",
       "    }\n",
       "\n",
       "    .dataframe thead th {\n",
       "        text-align: right;\n",
       "    }\n",
       "</style>\n",
       "<table border=\"1\" class=\"dataframe\">\n",
       "  <thead>\n",
       "    <tr style=\"text-align: right;\">\n",
       "      <th></th>\n",
       "      <th>revenue</th>\n",
       "      <th>price in m</th>\n",
       "      <th>square meters</th>\n",
       "      <th>city_Berlin</th>\n",
       "      <th>city_Cologne</th>\n",
       "      <th>city_Munich</th>\n",
       "    </tr>\n",
       "  </thead>\n",
       "  <tbody>\n",
       "    <tr>\n",
       "      <th>0</th>\n",
       "      <td>119000.0</td>\n",
       "      <td>21.88</td>\n",
       "      <td>3938.0</td>\n",
       "      <td>1</td>\n",
       "      <td>0</td>\n",
       "      <td>0</td>\n",
       "    </tr>\n",
       "    <tr>\n",
       "      <th>1</th>\n",
       "      <td>250000.0</td>\n",
       "      <td>27.95</td>\n",
       "      <td>3986.0</td>\n",
       "      <td>0</td>\n",
       "      <td>0</td>\n",
       "      <td>1</td>\n",
       "    </tr>\n",
       "    <tr>\n",
       "      <th>2</th>\n",
       "      <td>250000.0</td>\n",
       "      <td>16.09</td>\n",
       "      <td>2574.0</td>\n",
       "      <td>0</td>\n",
       "      <td>1</td>\n",
       "      <td>0</td>\n",
       "    </tr>\n",
       "    <tr>\n",
       "      <th>3</th>\n",
       "      <td>145000.0</td>\n",
       "      <td>27.58</td>\n",
       "      <td>4155.0</td>\n",
       "      <td>0</td>\n",
       "      <td>0</td>\n",
       "      <td>1</td>\n",
       "    </tr>\n",
       "    <tr>\n",
       "      <th>4</th>\n",
       "      <td>110000.0</td>\n",
       "      <td>23.76</td>\n",
       "      <td>3795.0</td>\n",
       "      <td>1</td>\n",
       "      <td>0</td>\n",
       "      <td>0</td>\n",
       "    </tr>\n",
       "  </tbody>\n",
       "</table>\n",
       "</div>"
      ],
      "text/plain": [
       "    revenue  price in m  square meters  city_Berlin  city_Cologne  city_Munich\n",
       "0  119000.0       21.88         3938.0            1             0            0\n",
       "1  250000.0       27.95         3986.0            0             0            1\n",
       "2  250000.0       16.09         2574.0            0             1            0\n",
       "3  145000.0       27.58         4155.0            0             0            1\n",
       "4  110000.0       23.76         3795.0            1             0            0"
      ]
     },
     "execution_count": 192,
     "metadata": {},
     "output_type": "execute_result"
    }
   ],
   "source": [
    "#implementation of one-hot-encoding via pandas to generate a new data frame\n",
    "df = pd.read_csv(\"hotels.csv\")\n",
    "\n",
    "df = pd.get_dummies(df, columns = [\"city\"])\n",
    "\n",
    "df.head()"
   ]
  },
  {
   "cell_type": "code",
   "execution_count": 225,
   "metadata": {},
   "outputs": [],
   "source": [
    "#define variables\n",
    "X = df[[\"revenue\", \"square meters\", \"city_Berlin\", \"city_Munich\"]].values\n",
    "#alternatively: X = df.drop(labels = [\"price in m\", \"city_Munich\"], axis = 1).values\n",
    "Y = df[[\"price in m\"]].values"
   ]
  },
  {
   "cell_type": "markdown",
   "metadata": {},
   "source": [
    "Notice that adding a third \"city\" column would not include any new information as this column would be linearily dependent on the other two."
   ]
  },
  {
   "cell_type": "code",
   "execution_count": 226,
   "metadata": {},
   "outputs": [
    {
     "name": "stdout",
     "output_type": "stream",
     "text": [
      "0.9691996044271944\n"
     ]
    }
   ],
   "source": [
    "scores = []\n",
    "\n",
    "for i in range(0,1000):\n",
    "    X_train, X_test, Y_train, Y_test = train_test_split(X, Y, test_size = 0.25)\n",
    "    model = LinearRegression()\n",
    "    model.fit(X_train, Y_train)\n",
    "    scores.append(model.score(X_test, Y_test))\n",
    "    \n",
    "print(sum(scores)/ len(scores))"
   ]
  },
  {
   "cell_type": "code",
   "execution_count": 229,
   "metadata": {},
   "outputs": [],
   "source": [
    "#model.coef_"
   ]
  },
  {
   "cell_type": "code",
   "execution_count": 230,
   "metadata": {},
   "outputs": [
    {
     "data": {
      "text/plain": [
       "array([[4.93943481]])"
      ]
     },
     "execution_count": 230,
     "metadata": {},
     "output_type": "execute_result"
    }
   ],
   "source": [
    "#to make a prediction for a hotel in city the column of which is the left out:\n",
    "model.predict([[10000, 300, 0, 0]])"
   ]
  },
  {
   "cell_type": "markdown",
   "metadata": {},
   "source": [
    "## Case 2: Car price prediction"
   ]
  },
  {
   "cell_type": "markdown",
   "metadata": {},
   "source": [
    "In the following we would like to create two models for car price prediction and compare them via their R2 scores."
   ]
  },
  {
   "cell_type": "code",
   "execution_count": 164,
   "metadata": {},
   "outputs": [
    {
     "data": {
      "text/html": [
       "<div>\n",
       "<style scoped>\n",
       "    .dataframe tbody tr th:only-of-type {\n",
       "        vertical-align: middle;\n",
       "    }\n",
       "\n",
       "    .dataframe tbody tr th {\n",
       "        vertical-align: top;\n",
       "    }\n",
       "\n",
       "    .dataframe thead th {\n",
       "        text-align: right;\n",
       "    }\n",
       "</style>\n",
       "<table border=\"1\" class=\"dataframe\">\n",
       "  <thead>\n",
       "    <tr style=\"text-align: right;\">\n",
       "      <th></th>\n",
       "      <th>price</th>\n",
       "      <th>yearOfRegistration</th>\n",
       "      <th>powerPS</th>\n",
       "      <th>kilometer</th>\n",
       "      <th>model</th>\n",
       "      <th>fuelType</th>\n",
       "      <th>name</th>\n",
       "    </tr>\n",
       "  </thead>\n",
       "  <tbody>\n",
       "    <tr>\n",
       "      <th>0</th>\n",
       "      <td>1450</td>\n",
       "      <td>1997</td>\n",
       "      <td>75</td>\n",
       "      <td>90000</td>\n",
       "      <td>andere</td>\n",
       "      <td>benzin</td>\n",
       "      <td>Toyota_Toyota_Starlet_1._Hand__TÜV_neu</td>\n",
       "    </tr>\n",
       "    <tr>\n",
       "      <th>1</th>\n",
       "      <td>13100</td>\n",
       "      <td>2005</td>\n",
       "      <td>280</td>\n",
       "      <td>5000</td>\n",
       "      <td>golf</td>\n",
       "      <td>benzin</td>\n",
       "      <td>R32_tauschen_oder_kaufen</td>\n",
       "    </tr>\n",
       "    <tr>\n",
       "      <th>2</th>\n",
       "      <td>4500</td>\n",
       "      <td>2008</td>\n",
       "      <td>87</td>\n",
       "      <td>90000</td>\n",
       "      <td>yaris</td>\n",
       "      <td>benzin</td>\n",
       "      <td>Toyota_Yaris_1.3_VVT_i</td>\n",
       "    </tr>\n",
       "    <tr>\n",
       "      <th>3</th>\n",
       "      <td>6000</td>\n",
       "      <td>2009</td>\n",
       "      <td>177</td>\n",
       "      <td>125000</td>\n",
       "      <td>3er</td>\n",
       "      <td>diesel</td>\n",
       "      <td>320_Alpinweiss_Kohlenstoff</td>\n",
       "    </tr>\n",
       "    <tr>\n",
       "      <th>4</th>\n",
       "      <td>3990</td>\n",
       "      <td>1999</td>\n",
       "      <td>118</td>\n",
       "      <td>90000</td>\n",
       "      <td>3er</td>\n",
       "      <td>benzin</td>\n",
       "      <td>BMW_318i_E46_+++_1._Hand_+++_Liebhaberfahrzeug</td>\n",
       "    </tr>\n",
       "  </tbody>\n",
       "</table>\n",
       "</div>"
      ],
      "text/plain": [
       "   price  yearOfRegistration  powerPS  kilometer   model fuelType  \\\n",
       "0   1450                1997       75      90000  andere   benzin   \n",
       "1  13100                2005      280       5000    golf   benzin   \n",
       "2   4500                2008       87      90000   yaris   benzin   \n",
       "3   6000                2009      177     125000     3er   diesel   \n",
       "4   3990                1999      118      90000     3er   benzin   \n",
       "\n",
       "                                             name  \n",
       "0          Toyota_Toyota_Starlet_1._Hand__TÜV_neu  \n",
       "1                        R32_tauschen_oder_kaufen  \n",
       "2                          Toyota_Yaris_1.3_VVT_i  \n",
       "3                      320_Alpinweiss_Kohlenstoff  \n",
       "4  BMW_318i_E46_+++_1._Hand_+++_Liebhaberfahrzeug  "
      ]
     },
     "execution_count": 164,
     "metadata": {},
     "output_type": "execute_result"
    }
   ],
   "source": [
    "#define data frame\n",
    "df = pd.read_csv(\"cars_prepared.csv\")\n",
    "\n",
    "#print the head of the data frame\n",
    "df.head()"
   ]
  },
  {
   "cell_type": "markdown",
   "metadata": {},
   "source": [
    "### Model 1: Kilometer - Price fitting"
   ]
  },
  {
   "cell_type": "code",
   "execution_count": 165,
   "metadata": {},
   "outputs": [],
   "source": [
    "scores = []\n",
    "intercepts = []\n",
    "coefs = []\n",
    "\n",
    "#define X,Y from data frame\n",
    "X = df[[\"kilometer\"]].values #to generate numpy array, check via type(X)\n",
    "Y = df[[\"price\"]].values"
   ]
  },
  {
   "cell_type": "code",
   "execution_count": 166,
   "metadata": {},
   "outputs": [
    {
     "name": "stdout",
     "output_type": "stream",
     "text": [
      "Average score: 0.14359169088307702 Average intercept: 15968.270188875034 Average coef: -0.08775728962333613\n"
     ]
    }
   ],
   "source": [
    "for i in range(0,1000):\n",
    "    X_train, X_test, Y_train, Y_test = train_test_split(X, Y, test_size = 0.25)\n",
    "    model = LinearRegression()\n",
    "    model.fit(X_train, Y_train)\n",
    "    intercepts.append(model.intercept_)\n",
    "    coefs.append(model.coef_)\n",
    "    scores.append(model.score(X_test, Y_test))\n",
    "    \n",
    "print(\"Average score: \" + str(sum(scores)/ len(scores)), \"Average intercept: \" + str((sum(intercepts)/len(intercepts))[0]), \"Average coef: \" + str((sum(coefs)/len(coefs))[0][0]))"
   ]
  },
  {
   "cell_type": "markdown",
   "metadata": {},
   "source": [
    "### Model 2: Kilometer, PS and year of registration - Price fitting"
   ]
  },
  {
   "cell_type": "code",
   "execution_count": 167,
   "metadata": {},
   "outputs": [],
   "source": [
    "scores = []\n",
    "intercepts = []\n",
    "coefs = []\n",
    "\n",
    "\n",
    "#define X,Y from data frame\n",
    "X = df[[\"kilometer\",\"powerPS\",\"yearOfRegistration\"]].values #to generate numpy array, check via type(X)\n",
    "Y = df[[\"price\"]].values"
   ]
  },
  {
   "cell_type": "code",
   "execution_count": 162,
   "metadata": {},
   "outputs": [
    {
     "name": "stdout",
     "output_type": "stream",
     "text": [
      "Average score: 0.5120554989281118 Average intercept: [-451910.62329917] Average coefs: [-6.80736336e-02  8.94824496e+01  2.27091393e+02]\n"
     ]
    }
   ],
   "source": [
    "for i in range(0,1000):\n",
    "    X_train, X_test, Y_train, Y_test = train_test_split(X, Y, test_size = 0.25)\n",
    "    model = LinearRegression()\n",
    "    model.fit(X_train, Y_train)\n",
    "    intercepts.append(model.intercept_)\n",
    "    coefs.append(model.coef_)\n",
    "    scores.append(model.score(X_test, Y_test))\n",
    "    \n",
    "print(\"Average score: \" + str(sum(scores)/ len(scores)), \"Average intercept: \" + str((sum(intercepts)/len(intercepts))), \"Average coefs: \" + str((sum(coefs)/len(coefs))[0]))"
   ]
  },
  {
   "cell_type": "markdown",
   "metadata": {},
   "source": [
    "Comment: We see that the R2 score for the enhanced model is much better as compared to the simple fit."
   ]
  },
  {
   "cell_type": "markdown",
   "metadata": {},
   "source": [
    "### Include nominal data into the model building:\n",
    "\n",
    "In the following we would like to train yet another model to predict car prices by including information on the model and fuel types. This nominal data can be incorporated via one-hot-encoding."
   ]
  },
  {
   "cell_type": "code",
   "execution_count": 235,
   "metadata": {},
   "outputs": [
    {
     "data": {
      "text/html": [
       "<div>\n",
       "<style scoped>\n",
       "    .dataframe tbody tr th:only-of-type {\n",
       "        vertical-align: middle;\n",
       "    }\n",
       "\n",
       "    .dataframe tbody tr th {\n",
       "        vertical-align: top;\n",
       "    }\n",
       "\n",
       "    .dataframe thead th {\n",
       "        text-align: right;\n",
       "    }\n",
       "</style>\n",
       "<table border=\"1\" class=\"dataframe\">\n",
       "  <thead>\n",
       "    <tr style=\"text-align: right;\">\n",
       "      <th></th>\n",
       "      <th>price</th>\n",
       "      <th>yearOfRegistration</th>\n",
       "      <th>powerPS</th>\n",
       "      <th>kilometer</th>\n",
       "      <th>name</th>\n",
       "      <th>model_147</th>\n",
       "      <th>model_156</th>\n",
       "      <th>model_1_reihe</th>\n",
       "      <th>model_1er</th>\n",
       "      <th>model_2_reihe</th>\n",
       "      <th>...</th>\n",
       "      <th>model_up</th>\n",
       "      <th>model_vectra</th>\n",
       "      <th>model_vivaro</th>\n",
       "      <th>model_yaris</th>\n",
       "      <th>model_yeti</th>\n",
       "      <th>model_zafira</th>\n",
       "      <th>fuelType_benzin</th>\n",
       "      <th>fuelType_diesel</th>\n",
       "      <th>fuelType_hybrid</th>\n",
       "      <th>fuelType_lpg</th>\n",
       "    </tr>\n",
       "  </thead>\n",
       "  <tbody>\n",
       "    <tr>\n",
       "      <th>0</th>\n",
       "      <td>1450</td>\n",
       "      <td>1997</td>\n",
       "      <td>75</td>\n",
       "      <td>90000</td>\n",
       "      <td>Toyota_Toyota_Starlet_1._Hand__TÜV_neu</td>\n",
       "      <td>0</td>\n",
       "      <td>0</td>\n",
       "      <td>0</td>\n",
       "      <td>0</td>\n",
       "      <td>0</td>\n",
       "      <td>...</td>\n",
       "      <td>0</td>\n",
       "      <td>0</td>\n",
       "      <td>0</td>\n",
       "      <td>0</td>\n",
       "      <td>0</td>\n",
       "      <td>0</td>\n",
       "      <td>1</td>\n",
       "      <td>0</td>\n",
       "      <td>0</td>\n",
       "      <td>0</td>\n",
       "    </tr>\n",
       "    <tr>\n",
       "      <th>1</th>\n",
       "      <td>13100</td>\n",
       "      <td>2005</td>\n",
       "      <td>280</td>\n",
       "      <td>5000</td>\n",
       "      <td>R32_tauschen_oder_kaufen</td>\n",
       "      <td>0</td>\n",
       "      <td>0</td>\n",
       "      <td>0</td>\n",
       "      <td>0</td>\n",
       "      <td>0</td>\n",
       "      <td>...</td>\n",
       "      <td>0</td>\n",
       "      <td>0</td>\n",
       "      <td>0</td>\n",
       "      <td>0</td>\n",
       "      <td>0</td>\n",
       "      <td>0</td>\n",
       "      <td>1</td>\n",
       "      <td>0</td>\n",
       "      <td>0</td>\n",
       "      <td>0</td>\n",
       "    </tr>\n",
       "    <tr>\n",
       "      <th>2</th>\n",
       "      <td>4500</td>\n",
       "      <td>2008</td>\n",
       "      <td>87</td>\n",
       "      <td>90000</td>\n",
       "      <td>Toyota_Yaris_1.3_VVT_i</td>\n",
       "      <td>0</td>\n",
       "      <td>0</td>\n",
       "      <td>0</td>\n",
       "      <td>0</td>\n",
       "      <td>0</td>\n",
       "      <td>...</td>\n",
       "      <td>0</td>\n",
       "      <td>0</td>\n",
       "      <td>0</td>\n",
       "      <td>1</td>\n",
       "      <td>0</td>\n",
       "      <td>0</td>\n",
       "      <td>1</td>\n",
       "      <td>0</td>\n",
       "      <td>0</td>\n",
       "      <td>0</td>\n",
       "    </tr>\n",
       "    <tr>\n",
       "      <th>3</th>\n",
       "      <td>6000</td>\n",
       "      <td>2009</td>\n",
       "      <td>177</td>\n",
       "      <td>125000</td>\n",
       "      <td>320_Alpinweiss_Kohlenstoff</td>\n",
       "      <td>0</td>\n",
       "      <td>0</td>\n",
       "      <td>0</td>\n",
       "      <td>0</td>\n",
       "      <td>0</td>\n",
       "      <td>...</td>\n",
       "      <td>0</td>\n",
       "      <td>0</td>\n",
       "      <td>0</td>\n",
       "      <td>0</td>\n",
       "      <td>0</td>\n",
       "      <td>0</td>\n",
       "      <td>0</td>\n",
       "      <td>1</td>\n",
       "      <td>0</td>\n",
       "      <td>0</td>\n",
       "    </tr>\n",
       "    <tr>\n",
       "      <th>4</th>\n",
       "      <td>3990</td>\n",
       "      <td>1999</td>\n",
       "      <td>118</td>\n",
       "      <td>90000</td>\n",
       "      <td>BMW_318i_E46_+++_1._Hand_+++_Liebhaberfahrzeug</td>\n",
       "      <td>0</td>\n",
       "      <td>0</td>\n",
       "      <td>0</td>\n",
       "      <td>0</td>\n",
       "      <td>0</td>\n",
       "      <td>...</td>\n",
       "      <td>0</td>\n",
       "      <td>0</td>\n",
       "      <td>0</td>\n",
       "      <td>0</td>\n",
       "      <td>0</td>\n",
       "      <td>0</td>\n",
       "      <td>1</td>\n",
       "      <td>0</td>\n",
       "      <td>0</td>\n",
       "      <td>0</td>\n",
       "    </tr>\n",
       "  </tbody>\n",
       "</table>\n",
       "<p>5 rows × 103 columns</p>\n",
       "</div>"
      ],
      "text/plain": [
       "   price  yearOfRegistration  powerPS  kilometer  \\\n",
       "0   1450                1997       75      90000   \n",
       "1  13100                2005      280       5000   \n",
       "2   4500                2008       87      90000   \n",
       "3   6000                2009      177     125000   \n",
       "4   3990                1999      118      90000   \n",
       "\n",
       "                                             name  model_147  model_156  \\\n",
       "0          Toyota_Toyota_Starlet_1._Hand__TÜV_neu          0          0   \n",
       "1                        R32_tauschen_oder_kaufen          0          0   \n",
       "2                          Toyota_Yaris_1.3_VVT_i          0          0   \n",
       "3                      320_Alpinweiss_Kohlenstoff          0          0   \n",
       "4  BMW_318i_E46_+++_1._Hand_+++_Liebhaberfahrzeug          0          0   \n",
       "\n",
       "   model_1_reihe  model_1er  model_2_reihe      ...       model_up  \\\n",
       "0              0          0              0      ...              0   \n",
       "1              0          0              0      ...              0   \n",
       "2              0          0              0      ...              0   \n",
       "3              0          0              0      ...              0   \n",
       "4              0          0              0      ...              0   \n",
       "\n",
       "   model_vectra  model_vivaro  model_yaris  model_yeti  model_zafira  \\\n",
       "0             0             0            0           0             0   \n",
       "1             0             0            0           0             0   \n",
       "2             0             0            1           0             0   \n",
       "3             0             0            0           0             0   \n",
       "4             0             0            0           0             0   \n",
       "\n",
       "   fuelType_benzin  fuelType_diesel  fuelType_hybrid  fuelType_lpg  \n",
       "0                1                0                0             0  \n",
       "1                1                0                0             0  \n",
       "2                1                0                0             0  \n",
       "3                0                1                0             0  \n",
       "4                1                0                0             0  \n",
       "\n",
       "[5 rows x 103 columns]"
      ]
     },
     "execution_count": 235,
     "metadata": {},
     "output_type": "execute_result"
    }
   ],
   "source": [
    "#implementation of one-hot-encoding via pandas to generate a new data frame\n",
    "df = df = pd.read_csv(\"cars_prepared.csv\")\n",
    "\n",
    "df = pd.get_dummies(df, columns = [\"model\", \"fuelType\"])\n",
    "\n",
    "df.head()"
   ]
  },
  {
   "cell_type": "code",
   "execution_count": 238,
   "metadata": {},
   "outputs": [],
   "source": [
    "#define variables and include in X only some of the models but all fuel types\n",
    "X = df[[\"kilometer\",\"powerPS\",\"yearOfRegistration\", \"model_147\", \"model_156\", \"model_1_reihe\", \"model_1er\", \"model_2_reihe\", \"model_up\", \"model_vectra\", \"model_vivaro\", \"model_yaris\", \"model_yeti\", \"model_zafira\", \"fuelType_benzin\", \"fuelType_diesel\", \"fuelType_hybrid\", \"fuelType_lpg\"]].values\n",
    "Y = df[[\"price\"]].values"
   ]
  },
  {
   "cell_type": "code",
   "execution_count": 237,
   "metadata": {},
   "outputs": [
    {
     "name": "stdout",
     "output_type": "stream",
     "text": [
      "Average score: 0.5621081255590241\n"
     ]
    }
   ],
   "source": [
    "scores = []\n",
    "intercepts = []\n",
    "coefs = []\n",
    "\n",
    "for i in range(0,1000):\n",
    "    X_train, X_test, Y_train, Y_test = train_test_split(X, Y, test_size = 0.25)\n",
    "    model = LinearRegression()\n",
    "    model.fit(X_train, Y_train)\n",
    "    intercepts.append(model.intercept_)\n",
    "    coefs.append(model.coef_)\n",
    "    scores.append(model.score(X_test, Y_test))\n",
    "    \n",
    "print(\"Average score: \" + str(sum(scores)/ len(scores)))\n"
   ]
  },
  {
   "cell_type": "markdown",
   "metadata": {},
   "source": [
    "Notice that for the given case the inclusion of nominal data yields a slight improvement over the previous fittings."
   ]
  },
  {
   "cell_type": "code",
   "execution_count": null,
   "metadata": {},
   "outputs": [],
   "source": []
  }
 ],
 "metadata": {
  "kernelspec": {
   "display_name": "Python 3",
   "language": "python",
   "name": "python3"
  },
  "language_info": {
   "codemirror_mode": {
    "name": "ipython",
    "version": 3
   },
   "file_extension": ".py",
   "mimetype": "text/x-python",
   "name": "python",
   "nbconvert_exporter": "python",
   "pygments_lexer": "ipython3",
   "version": "3.6.7"
  }
 },
 "nbformat": 4,
 "nbformat_minor": 2
}
