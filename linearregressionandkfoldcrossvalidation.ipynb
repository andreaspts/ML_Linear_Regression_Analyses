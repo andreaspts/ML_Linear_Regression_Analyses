{
 "cells": [
  {
   "cell_type": "markdown",
   "metadata": {},
   "source": [
    "# Single and repeated K-fold cross validation (applied to linear regressions)"
   ]
  },
  {
   "cell_type": "markdown",
   "metadata": {},
   "source": [
    "In the following we will analyze prices for hotels and diamonds by means of a linear regression and enhance the analysis using K-fold cross validation once or repeated times. K-fold cross validation implements a splitting of the training/test data in K blocks. For each training cycle the blocks are arranged differently. This reduces the dependance of the fitting on the way the data was split and stabilizes the R2 score. If this is done repeatedly, one can reduce the variance of the fitting. For details, we refer to https://machinelearningmastery.com/k-fold-cross-validation/ and https://en.wikipedia.org/wiki/Cross-validation_(statistics)."
   ]
  },
  {
   "cell_type": "code",
   "execution_count": 20,
   "metadata": {},
   "outputs": [],
   "source": [
    "#importing the necessary packages\n",
    "import pandas as pd\n",
    "import numpy as np\n",
    "\n",
    "from sklearn.model_selection import train_test_split\n",
    "from sklearn.linear_model import LinearRegression\n",
    "\n",
    "from sklearn.model_selection import KFold"
   ]
  },
  {
   "cell_type": "markdown",
   "metadata": {},
   "source": [
    "## Case 1: Hotel price prediction"
   ]
  },
  {
   "cell_type": "code",
   "execution_count": 33,
   "metadata": {},
   "outputs": [
    {
     "data": {
      "text/html": [
       "<div>\n",
       "<style scoped>\n",
       "    .dataframe tbody tr th:only-of-type {\n",
       "        vertical-align: middle;\n",
       "    }\n",
       "\n",
       "    .dataframe tbody tr th {\n",
       "        vertical-align: top;\n",
       "    }\n",
       "\n",
       "    .dataframe thead th {\n",
       "        text-align: right;\n",
       "    }\n",
       "</style>\n",
       "<table border=\"1\" class=\"dataframe\">\n",
       "  <thead>\n",
       "    <tr style=\"text-align: right;\">\n",
       "      <th></th>\n",
       "      <th>revenue</th>\n",
       "      <th>price in m</th>\n",
       "      <th>square meters</th>\n",
       "      <th>city</th>\n",
       "    </tr>\n",
       "  </thead>\n",
       "  <tbody>\n",
       "    <tr>\n",
       "      <th>0</th>\n",
       "      <td>119000.0</td>\n",
       "      <td>21.88</td>\n",
       "      <td>3938.0</td>\n",
       "      <td>Berlin</td>\n",
       "    </tr>\n",
       "    <tr>\n",
       "      <th>1</th>\n",
       "      <td>250000.0</td>\n",
       "      <td>27.95</td>\n",
       "      <td>3986.0</td>\n",
       "      <td>Munich</td>\n",
       "    </tr>\n",
       "    <tr>\n",
       "      <th>2</th>\n",
       "      <td>250000.0</td>\n",
       "      <td>16.09</td>\n",
       "      <td>2574.0</td>\n",
       "      <td>Cologne</td>\n",
       "    </tr>\n",
       "    <tr>\n",
       "      <th>3</th>\n",
       "      <td>145000.0</td>\n",
       "      <td>27.58</td>\n",
       "      <td>4155.0</td>\n",
       "      <td>Munich</td>\n",
       "    </tr>\n",
       "    <tr>\n",
       "      <th>4</th>\n",
       "      <td>110000.0</td>\n",
       "      <td>23.76</td>\n",
       "      <td>3795.0</td>\n",
       "      <td>Berlin</td>\n",
       "    </tr>\n",
       "  </tbody>\n",
       "</table>\n",
       "</div>"
      ],
      "text/plain": [
       "    revenue  price in m  square meters     city\n",
       "0  119000.0       21.88         3938.0   Berlin\n",
       "1  250000.0       27.95         3986.0   Munich\n",
       "2  250000.0       16.09         2574.0  Cologne\n",
       "3  145000.0       27.58         4155.0   Munich\n",
       "4  110000.0       23.76         3795.0   Berlin"
      ]
     },
     "execution_count": 33,
     "metadata": {},
     "output_type": "execute_result"
    }
   ],
   "source": [
    "df = pd.read_csv(\"hotels.csv\")\n",
    "df.head()"
   ]
  },
  {
   "cell_type": "code",
   "execution_count": 34,
   "metadata": {},
   "outputs": [],
   "source": [
    "#define variables\n",
    "\n",
    "X = df[[\"revenue\", \"square meters\"]].values\n",
    "Y = df[[\"price in m\"]].values"
   ]
  },
  {
   "cell_type": "code",
   "execution_count": 38,
   "metadata": {},
   "outputs": [
    {
     "name": "stdout",
     "output_type": "stream",
     "text": [
      "0.6781087783282818\n",
      "0.6542113168820844\n",
      "0.6176880785838315\n",
      "0.7910523751034904\n",
      "0.89404721318626\n",
      "0.8680821541971769\n",
      "0.9052876802443548\n",
      "0.7261559971754552\n",
      "0.9028780358043135\n",
      "0.825289680295141\n"
     ]
    }
   ],
   "source": [
    "#introduce K-fold splitting (choose 4<=K<=10) and randomize the blocks\n",
    "kf = KFold(n_splits = 10, shuffle = True)\n",
    "\n",
    "for train_index, test_index in kf.split(X):\n",
    "    #print(\"train: \" + str(train_index))\n",
    "    #print(\"test: \" + str(test_index))\n",
    "    #print(\"--------\")\n",
    "    \n",
    "    X_test = X[test_index]\n",
    "    X_train = X[train_index]\n",
    "    \n",
    "    Y_test = Y[test_index]\n",
    "    Y_train = Y[train_index]\n",
    "    \n",
    "    #train linear regression\n",
    "    model = LinearRegression()\n",
    "    model.fit(X_train, Y_train)\n",
    "    print(model.score(X_test, Y_test))"
   ]
  },
  {
   "cell_type": "markdown",
   "metadata": {},
   "source": [
    "Notice that we can do the same in an abbreviate fashion using a sklearn function:"
   ]
  },
  {
   "cell_type": "code",
   "execution_count": 53,
   "metadata": {},
   "outputs": [
    {
     "name": "stdout",
     "output_type": "stream",
     "text": [
      "[0.65017794 0.64157437 0.7682274  0.75577885 0.81121291 0.87869648\n",
      " 0.82420155 0.82443676 0.89919227 0.92067196]\n",
      "0.7974170485910209\n"
     ]
    }
   ],
   "source": [
    "#import additional packages\n",
    "from sklearn.model_selection import cross_val_score\n",
    "from sklearn.model_selection import RepeatedKFold\n",
    "\n",
    "kf = KFold(n_splits = 10)\n",
    "scores =  cross_val_score(LinearRegression(), X, Y, cv = kf)\n",
    "\n",
    "print(scores)\n",
    "print(np.mean(scores))"
   ]
  },
  {
   "cell_type": "markdown",
   "metadata": {},
   "source": [
    "In addition, we can also repeat the K-fold cross validation a couple of times, each time over a newly randomly assembled trainin/test K/K-1 block split. This has the advantage to reduce the variance of our fitting and leads to an improved R2 score, however, at the cost of computational time."
   ]
  },
  {
   "cell_type": "code",
   "execution_count": 57,
   "metadata": {},
   "outputs": [
    {
     "name": "stdout",
     "output_type": "stream",
     "text": [
      "[0.77688512 0.83925274 0.86427454 0.80052426 0.84459837 0.81212578\n",
      " 0.84917972 0.8320087  0.85541435 0.81958873 0.82725276 0.77849842\n",
      " 0.78593875 0.84248322 0.88689448 0.78442097 0.85483194 0.80452332\n",
      " 0.86598619 0.80233852 0.86502498 0.78430593 0.84833342 0.77157466\n",
      " 0.83965713 0.85492762 0.84744901 0.85506764 0.80563552 0.77566312\n",
      " 0.79068084 0.87739722 0.83711287 0.77126775 0.85948455 0.82134729\n",
      " 0.77011543 0.82741225 0.86016189 0.85201803 0.79638813 0.72766421\n",
      " 0.84381706 0.84776787 0.86170416 0.81022118 0.7895725  0.85343473\n",
      " 0.83668869 0.81763998 0.82803189 0.74774213 0.87828333 0.85421059\n",
      " 0.80487884 0.79416019 0.79976101 0.73835697 0.8895257  0.86360803\n",
      " 0.85789318 0.86504673 0.70965903 0.78868384 0.84188369 0.83626545\n",
      " 0.78165419 0.86375069 0.73257236 0.83335267 0.74158022 0.8326715\n",
      " 0.84744759 0.79262884 0.83350183 0.86034807 0.76521479 0.85661164\n",
      " 0.80053231 0.81996176 0.8491104  0.80272775 0.83073943 0.84279197\n",
      " 0.79031336 0.84313174 0.79181861 0.81488302 0.75795493 0.86889631\n",
      " 0.81999844 0.86074714 0.85178518 0.72563451 0.83672518 0.84776312\n",
      " 0.77375042 0.81957237 0.85178473 0.80558255]\n",
      "0.8207208674533588\n"
     ]
    }
   ],
   "source": [
    "#import additional packages\n",
    "from sklearn.model_selection import cross_val_score\n",
    "from sklearn.model_selection import RepeatedKFold\n",
    "\n",
    "rkf = RepeatedKFold(n_splits = 5, n_repeats = 20)\n",
    "scores =  cross_val_score(LinearRegression(), X, Y, cv = rkf)\n",
    "\n",
    "print(scores)\n",
    "print(np.mean(scores))"
   ]
  },
  {
   "cell_type": "markdown",
   "metadata": {},
   "source": [
    "We observe that the score improves by using K-fold cross validation (single or repeated) as compared to simple linear regression models on the same data (see this repository: twosimplelinearregressions.ipynb)"
   ]
  },
  {
   "cell_type": "markdown",
   "metadata": {},
   "source": [
    "## Case 2: Diamond price prediction"
   ]
  },
  {
   "cell_type": "code",
   "execution_count": 74,
   "metadata": {},
   "outputs": [
    {
     "data": {
      "text/html": [
       "<div>\n",
       "<style scoped>\n",
       "    .dataframe tbody tr th:only-of-type {\n",
       "        vertical-align: middle;\n",
       "    }\n",
       "\n",
       "    .dataframe tbody tr th {\n",
       "        vertical-align: top;\n",
       "    }\n",
       "\n",
       "    .dataframe thead th {\n",
       "        text-align: right;\n",
       "    }\n",
       "</style>\n",
       "<table border=\"1\" class=\"dataframe\">\n",
       "  <thead>\n",
       "    <tr style=\"text-align: right;\">\n",
       "      <th></th>\n",
       "      <th>carat</th>\n",
       "      <th>cut</th>\n",
       "      <th>color</th>\n",
       "      <th>clarity</th>\n",
       "      <th>depth</th>\n",
       "      <th>table</th>\n",
       "      <th>price</th>\n",
       "      <th>x</th>\n",
       "      <th>y</th>\n",
       "      <th>z</th>\n",
       "    </tr>\n",
       "  </thead>\n",
       "  <tbody>\n",
       "    <tr>\n",
       "      <th>0</th>\n",
       "      <td>0.23</td>\n",
       "      <td>Ideal</td>\n",
       "      <td>E</td>\n",
       "      <td>SI2</td>\n",
       "      <td>61.5</td>\n",
       "      <td>55.0</td>\n",
       "      <td>326</td>\n",
       "      <td>3.95</td>\n",
       "      <td>3.98</td>\n",
       "      <td>2.43</td>\n",
       "    </tr>\n",
       "    <tr>\n",
       "      <th>1</th>\n",
       "      <td>0.21</td>\n",
       "      <td>Premium</td>\n",
       "      <td>E</td>\n",
       "      <td>SI1</td>\n",
       "      <td>59.8</td>\n",
       "      <td>61.0</td>\n",
       "      <td>326</td>\n",
       "      <td>3.89</td>\n",
       "      <td>3.84</td>\n",
       "      <td>2.31</td>\n",
       "    </tr>\n",
       "    <tr>\n",
       "      <th>2</th>\n",
       "      <td>0.23</td>\n",
       "      <td>Good</td>\n",
       "      <td>E</td>\n",
       "      <td>VS1</td>\n",
       "      <td>56.9</td>\n",
       "      <td>65.0</td>\n",
       "      <td>327</td>\n",
       "      <td>4.05</td>\n",
       "      <td>4.07</td>\n",
       "      <td>2.31</td>\n",
       "    </tr>\n",
       "    <tr>\n",
       "      <th>3</th>\n",
       "      <td>0.29</td>\n",
       "      <td>Premium</td>\n",
       "      <td>I</td>\n",
       "      <td>VS2</td>\n",
       "      <td>62.4</td>\n",
       "      <td>58.0</td>\n",
       "      <td>334</td>\n",
       "      <td>4.20</td>\n",
       "      <td>4.23</td>\n",
       "      <td>2.63</td>\n",
       "    </tr>\n",
       "    <tr>\n",
       "      <th>4</th>\n",
       "      <td>0.31</td>\n",
       "      <td>Good</td>\n",
       "      <td>J</td>\n",
       "      <td>SI2</td>\n",
       "      <td>63.3</td>\n",
       "      <td>58.0</td>\n",
       "      <td>335</td>\n",
       "      <td>4.34</td>\n",
       "      <td>4.35</td>\n",
       "      <td>2.75</td>\n",
       "    </tr>\n",
       "  </tbody>\n",
       "</table>\n",
       "</div>"
      ],
      "text/plain": [
       "   carat      cut color clarity  depth  table  price     x     y     z\n",
       "0   0.23    Ideal     E     SI2   61.5   55.0    326  3.95  3.98  2.43\n",
       "1   0.21  Premium     E     SI1   59.8   61.0    326  3.89  3.84  2.31\n",
       "2   0.23     Good     E     VS1   56.9   65.0    327  4.05  4.07  2.31\n",
       "3   0.29  Premium     I     VS2   62.4   58.0    334  4.20  4.23  2.63\n",
       "4   0.31     Good     J     SI2   63.3   58.0    335  4.34  4.35  2.75"
      ]
     },
     "execution_count": 74,
     "metadata": {},
     "output_type": "execute_result"
    }
   ],
   "source": [
    "#define data frame\n",
    "df = pd.read_csv(\"diamonds.csv\")\n",
    "df.head()"
   ]
  },
  {
   "cell_type": "code",
   "execution_count": 87,
   "metadata": {},
   "outputs": [],
   "source": [
    "# price over carat\n",
    "#define the variables\n",
    "X = df[[\"carat\"]].values\n",
    "Y = df[[\"price\"]].values"
   ]
  },
  {
   "cell_type": "markdown",
   "metadata": {},
   "source": [
    "Single K-fold cross validation:"
   ]
  },
  {
   "cell_type": "code",
   "execution_count": 88,
   "metadata": {},
   "outputs": [
    {
     "name": "stdout",
     "output_type": "stream",
     "text": [
      "[ -1.19674984  -0.69445246   0.02852806   0.41164573   0.22536609\n",
      "   0.88264907 -18.35436161  -5.8937819   -1.59248002  -2.34521628]\n",
      "-2.8528853152441256\n"
     ]
    }
   ],
   "source": [
    "kf = KFold(n_splits = 10)\n",
    "scores =  cross_val_score(LinearRegression(), X, Y, cv = kf)\n",
    "\n",
    "print(scores)\n",
    "print(np.mean(scores))"
   ]
  },
  {
   "cell_type": "markdown",
   "metadata": {},
   "source": [
    "Repeated K-fold cross validation:"
   ]
  },
  {
   "cell_type": "code",
   "execution_count": 89,
   "metadata": {},
   "outputs": [
    {
     "name": "stdout",
     "output_type": "stream",
     "text": [
      "[0.85171455 0.85400455 0.84825171 0.85442591 0.84870718 0.85360381\n",
      " 0.84257466 0.8492135  0.84513195 0.84552153 0.8526445  0.85430981\n",
      " 0.85385462 0.85077859 0.85185439 0.83819267 0.85007778 0.8445543\n",
      " 0.84829782 0.84775112 0.85624159 0.84582368 0.84820449 0.85235766\n",
      " 0.85500157 0.83830035 0.85202622 0.84591588 0.84963868 0.84927646\n",
      " 0.85021009 0.83846009 0.84822878 0.84466637 0.85693027 0.84962952\n",
      " 0.84795501 0.84988918 0.85075458 0.85581635 0.85425393 0.8531153\n",
      " 0.8471065  0.85055239 0.8556222  0.85218907 0.84764189 0.84343466\n",
      " 0.84287085 0.84544688 0.85645049 0.84451844 0.84996197 0.84438371\n",
      " 0.83730184 0.84975439 0.85003427 0.85309907 0.85408326 0.85313693\n",
      " 0.85109556 0.84479096 0.85455075 0.84244024 0.84310212 0.85175551\n",
      " 0.84689434 0.85176412 0.84886286 0.85698405 0.84567138 0.8525305\n",
      " 0.85303753 0.84554729 0.84033819 0.84381016 0.84971413 0.85967022\n",
      " 0.8542488  0.84833479 0.84247353 0.85080254 0.84736089 0.84807104\n",
      " 0.84682287 0.8622235  0.84130374 0.8511539  0.85183825 0.84986453\n",
      " 0.85469476 0.84380739 0.84088334 0.85018318 0.84281076 0.8538822\n",
      " 0.85205739 0.84831714 0.8529146  0.85290928]\n",
      "0.8492526813271133\n"
     ]
    }
   ],
   "source": [
    "rkf = RepeatedKFold(n_splits = 10, n_repeats = 10)\n",
    "scores =  cross_val_score(LinearRegression(), X, Y, cv = rkf)\n",
    "\n",
    "print(scores)\n",
    "print(np.mean(scores))"
   ]
  },
  {
   "cell_type": "code",
   "execution_count": 90,
   "metadata": {},
   "outputs": [],
   "source": [
    "# price over dimensions x,y,z\n",
    "#define the variables\n",
    "X = df[[\"x\", \"y\", \"z\"]].values\n",
    "Y = df[[\"price\"]].values"
   ]
  },
  {
   "cell_type": "code",
   "execution_count": 91,
   "metadata": {},
   "outputs": [
    {
     "name": "stdout",
     "output_type": "stream",
     "text": [
      "[ -3.15811744  -1.945763    -0.33501165   0.66575126  -0.2506608\n",
      "   0.77914618 -65.05763869 -16.25159779  -6.29315444  -7.31295668]\n",
      "-9.916000303645998\n"
     ]
    }
   ],
   "source": [
    "kf = KFold(n_splits = 10)\n",
    "scores =  cross_val_score(LinearRegression(), X, Y, cv = kf)\n",
    "\n",
    "print(scores)\n",
    "print(np.mean(scores))"
   ]
  },
  {
   "cell_type": "code",
   "execution_count": 92,
   "metadata": {},
   "outputs": [
    {
     "name": "stdout",
     "output_type": "stream",
     "text": [
      "[0.78347692 0.7820498  0.77726058 0.78809859 0.7699196  0.78197699\n",
      " 0.77966645 0.78025472 0.77732469 0.78823696 0.76144056 0.77102022\n",
      " 0.78482845 0.78770725 0.78768161 0.77570015 0.78235227 0.7839635\n",
      " 0.78858023 0.78406858 0.77603044 0.76206473 0.77891721 0.78760152\n",
      " 0.79333455 0.79034478 0.78568323 0.75781368 0.79084986 0.78024332\n",
      " 0.78744675 0.78724674 0.77695662 0.7800052  0.77955506 0.77792785\n",
      " 0.78066703 0.79210634 0.78602138 0.75933493 0.78951531 0.77160346\n",
      " 0.78779288 0.78506039 0.78143847 0.77057063 0.78110891 0.77928934\n",
      " 0.78619921 0.77512497 0.78263544 0.77849147 0.79048861 0.78019447\n",
      " 0.77699943 0.77510684 0.78695705 0.31456239 0.78858785 0.7782075\n",
      " 0.32267764 0.78017725 0.77202862 0.79679375 0.77777125 0.77884334\n",
      " 0.77441546 0.79040794 0.78259069 0.78582468 0.78089107 0.78936093\n",
      " 0.76578659 0.7631058  0.78865364 0.77573478 0.78964566 0.78999436\n",
      " 0.78022887 0.78226972 0.79149079 0.77389944 0.78433975 0.78355696\n",
      " 0.79057757 0.77731    0.7775475  0.77450619 0.79119561 0.76192406\n",
      " 0.30430275 0.78171234 0.78081967 0.78622864 0.79018011 0.78525909\n",
      " 0.78232975 0.76670243 0.7856469  0.77601792]\n",
      "0.7669844343932647\n"
     ]
    }
   ],
   "source": [
    "rkf = RepeatedKFold(n_splits = 10, n_repeats = 10)\n",
    "scores =  cross_val_score(LinearRegression(), X, Y, cv = rkf)\n",
    "\n",
    "print(scores)\n",
    "print(np.mean(scores))"
   ]
  },
  {
   "cell_type": "markdown",
   "metadata": {},
   "source": [
    "From the results we understand that fitting for price over carat is more accurately done than that over dimensions. Also the repeated application of K-fold cross validation delivers more stable results."
   ]
  },
  {
   "cell_type": "code",
   "execution_count": null,
   "metadata": {},
   "outputs": [],
   "source": []
  }
 ],
 "metadata": {
  "kernelspec": {
   "display_name": "Python 3",
   "language": "python",
   "name": "python3"
  },
  "language_info": {
   "codemirror_mode": {
    "name": "ipython",
    "version": 3
   },
   "file_extension": ".py",
   "mimetype": "text/x-python",
   "name": "python",
   "nbconvert_exporter": "python",
   "pygments_lexer": "ipython3",
   "version": "3.6.7"
  }
 },
 "nbformat": 4,
 "nbformat_minor": 2
}
